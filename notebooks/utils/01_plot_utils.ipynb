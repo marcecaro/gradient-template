{
 "cells": [
  {
   "cell_type": "code",
   "execution_count": null,
   "metadata": {},
   "outputs": [],
   "source": [
    "# | default_exp project.utils.plot"
   ]
  },
  {
   "cell_type": "code",
   "execution_count": null,
   "metadata": {},
   "outputs": [],
   "source": [
    "# | export\n",
    "\n",
    "from IPython.display import clear_output\n",
    "\n",
    "\n",
    "class LivePlot:\n",
    "    def __init__(self, figure_id=0, figsize=(7, 5), title=\"\", xlabel=\"epochs\"):\n",
    "        self.figure_id = figure_id\n",
    "        self.figsize = figsize\n",
    "        self.title = title\n",
    "        self.xlabel = xlabel\n",
    "\n",
    "    def plot(self, data_dict):\n",
    "        from matplotlib import pyplot as plt\n",
    "\n",
    "        clear_output(wait=True)\n",
    "        plt.figure(num=self.figure_id, figsize=self.figsize)\n",
    "        for label, data in data_dict.items():\n",
    "            plt.plot(data, label=label)\n",
    "        plt.title(self.title)\n",
    "        plt.grid(True)\n",
    "        plt.xlabel(self.xlabel)\n",
    "        plt.legend(loc=\"center left\")  # the plot evolves to the right\n",
    "        plt.show()"
   ]
  },
  {
   "cell_type": "code",
   "execution_count": null,
   "metadata": {},
   "outputs": [],
   "source": [
    "import matplotlib.pyplot as plt\n",
    "import numpy as np\n",
    "\n",
    "# Generate some data\n",
    "x = np.linspace(0, 10, 100)\n",
    "y1 = np.sin(x)\n",
    "y2 = np.cos(x)\n",
    "\n",
    "# Create two figures and axes objects\n",
    "fig1, ax1 = plt.subplots()\n",
    "fig2, ax2 = plt.subplots()\n",
    "\n",
    "# Plot the data on the first figure\n",
    "ax1.plot(x, y1)\n",
    "ax1.set_title(\"Sine Wave\")\n",
    "ax1.set_xlabel(\"x\")\n",
    "ax1.set_ylabel(\"y\")\n",
    "\n",
    "# Plot the data on the second figure\n",
    "ax2.plot(x, y2)\n",
    "ax2.set_title(\"Cosine Wave\")\n",
    "ax2.set_xlabel(\"x\")\n",
    "ax2.set_ylabel(\"y\")\n",
    "\n",
    "# Show the plots\n",
    "plt.show()"
   ]
  }
 ],
 "metadata": {
  "kernelspec": {
   "display_name": "python3",
   "language": "python",
   "name": "python3"
  }
 },
 "nbformat": 4,
 "nbformat_minor": 2
}
